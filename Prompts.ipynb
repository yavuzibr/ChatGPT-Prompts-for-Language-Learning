{
 "cells": [
  {
   "cell_type": "markdown",
   "metadata": {},
   "source": [
    "# Learning Language with 5 main prompt\n"
   ]
  },
  {
   "cell_type": "markdown",
   "metadata": {},
   "source": [
    "“To get the right answers, you have to ask the right questions”. Discover a groundbreaking approach to language learning with ChatGPT Prompts! Perfect for all proficiency levels, these AI-powered prompts fuel creativity and engagement while studying vocabulary, grammar, and conversation. Personalize your learning experience and save time with contextually relevant language examples. Embrace the language learning revolution with ChatGPT Prompts and unlock your linguistic potential today!"
   ]
  },
  {
   "cell_type": "markdown",
   "metadata": {},
   "source": [
    "## Reminder\n"
   ]
  },
  {
   "cell_type": "markdown",
   "metadata": {},
   "source": [
    "If you want to see only the prompts without explanation and example video, there will be a section where I only share the prompts in the last section. You can use the prompts piece by piece according to your needs, or you can start learning as a whole by applying them sequentially.\n",
    "\n",
    "In addition, the number of prompts can exceed 5 because you may want to produce detailed and varied content. What I want to emphasize here is \"5 main prompts\"."
   ]
  },
  {
   "cell_type": "markdown",
   "metadata": {},
   "source": [
    "## Before moving on to the topic"
   ]
  },
  {
   "cell_type": "markdown",
   "metadata": {},
   "source": [
    "My aim is not to create a product full of prompts and information that will never be of use to you, such as \"1,000,000 prompts about learning a language\" with an inflated number of prompts. To create a product that will really help you learn a language with examples, explanations and hints. That's why I will focus on its quality more than the number of prompts. Before I begin, I would like to point out a few things about prompts and ChatGPT in general:\n",
    "\n",
    "1. Prompt's quality is not with its length, but with its content.\n",
    "2. Prompts that are long and contain many variables may seem like a solution to get a specific answer, but when there are many things to focus on, ChatGPT can get lost in the details in the prompt, or because there are many things that need to be answered, it deals with each topic / topic in general instead of going into details.\n",
    "3. ChatGPT can produce impressive results in many different languages, but can provide better and more accurate answers to English questions because it has more data and training in English. Because the datasets on which ChatGPT is trained usually mostly consist of English content. This means that he is more familiar with the English language and has a large vocabulary."
   ]
  },
  {
   "cell_type": "markdown",
   "metadata": {},
   "source": [
    "# We are ready now. Lets Learn Language"
   ]
  },
  {
   "cell_type": "markdown",
   "metadata": {},
   "source": [
    "As I mentioned in item 3. above, we should use English prompts for better and more accurate results, but what should we do if we do not speak English or if we already use ChatGPT to learn English?\n",
    "\n",
    "1. Writing a prompt in your native language. Although this affects the quality and scope of the response, ChatGPT detects the language typed in the prompt and automatically responds in that language. \n",
    "2. Translating the prompt in your native language into English with the help of translator applications such as Google Translate, DeepL and typing an English prompt into ChatGPT. This could be a good solution.\n",
    "    \n",
    "    a. In this case, we can either translate the answer in these applications or have it translated to ChatGPT by typing \"Translate the previous answer to \"X language\" in the mother tongue of the next prompt.\n",
    "    \n",
    "    b. Another way to use it is to translate the prompt into English so that it works well, but have it respond in the language you want with \"Respond in X language\" at the end.\n",
    "\n",
    "Now it's time to create a prompt. First of all, we need to make ChatGPT a teacher who teaches us languages. Two important points here are to explain its role to ChatGPT in a way that it can understand and to show us in which language it should respond. So let's start with our first prompt."
   ]
  },
  {
   "cell_type": "markdown",
   "metadata": {},
   "source": [
    "## Prompt-1"
   ]
  },
  {
   "cell_type": "markdown",
   "metadata": {},
   "source": [
    "### Appointing the Role to ChatGPT\n",
    "\n",
    "**Act as a Language Tutor**\n",
    "\n",
    "**Your job is being my Language Tutor**\n",
    "\n",
    "**Your purpose is teach [language] to me**\n",
    "\n",
    "**Your role is being my Language Tutor**"
   ]
  },
  {
   "cell_type": "markdown",
   "metadata": {},
   "source": [
    "- We can use this and many derivative sentences and use it as prompts, but even if we specify the \"language tutor\" profession here, if we do not write something about the language we will learn, ChatGPT may choose a role for itself and not give specific answers about all the languages it can find data for, instead of focusing on a single language. That's why we shouldn't prefer prompts that are not too complicated, stating both its purpose and task, for example:\n",
    "    \n",
    "    **Your purpose is teach {X language} to me as a {language tutor}.**\n",
    "    \n",
    "    **Your goal is teach {X Language} to me as a {language tutor} and your responds must be in {Y language}**"
   ]
  },
  {
   "cell_type": "markdown",
   "metadata": {},
   "source": [
    "## Prompt-2\n",
    "### Introduction to language\n",
    "Now that we have the general outline of the prompt, we can make additional requests on the subject:\n",
    "\n",
    "**Your purpose is teaching {X language} to me as a language tutor. Your responses must be in {Y language} . Do not write the items again while answering the text that I wrote in the prompt . To begin with, I want you to perform the items listed below, in order:**\n",
    "\n",
    "- **Introduce yourself as a language tutor**\n",
    "- **What are the main areas to learn in a language are usually**\n",
    "- **Give brief information about the history of {X language} language and its language family**\n",
    "- **Give detailed statistical information about how many people on earth speak {X language} and most spoken countries.**\n",
    "- **Talk about the dialects and accents of {X language}**\n",
    "- **Why should I learn {X language} ?**\n",
    "- **What is the guideline used to describe the achievements of learners of {X language}**\n",
    "- **Create a roadmap step by step for learning {X language}**"
   ]
  },
  {
   "cell_type": "markdown",
   "metadata": {},
   "source": [
    "The purpose of the prompt above is to create a framework for the language we will learn."
   ]
  },
  {
   "cell_type": "markdown",
   "metadata": {},
   "source": [
    "## Prompt-3\n",
    "### Creating syllabus for studying\n",
    "Thanks to the prompt above, we learn the main areas that need to be learned in a language and the measurement of proficiency for that language. For example, if the language we want to learn is \"English\", the levels consist of \"A1-C2\" levels within the scope of the Common European Framework of Reference (CEFR) and our studying field is grammar. Now we will create prompts for each field accordingly:"
   ]
  },
  {
   "cell_type": "markdown",
   "metadata": {},
   "source": [
    "**Create a detailed curriculum outline for {grammar} concepts at {A1} {English} level according to the {Common European Framework of Reference for Languages (CEFR)} including:**\n",
    "\n",
    "- **Course Description**\n",
    "- **Course Duration**\n",
    "- **Course Objectives**\n",
    "- **Course Outline in detailed weekly action plan in table format**\n",
    "- **Create exercises according to  course outline**"
   ]
  },
  {
   "cell_type": "markdown",
   "metadata": {},
   "source": [
    "## Prompt-4\n",
    "### Resources for studying\n",
    "In this part, we now have a weekly schedule and we have learned the concept in general. Now we create a prompt like the one below in ChatGPT to find resource suggestions for the general fields we will work on (such as reading, writing, vocal, grammar). You can add specific places/platforms to this prompt if you want (for example, \"movies from {X platform}\")"
   ]
  },
  {
   "cell_type": "markdown",
   "metadata": {},
   "source": [
    "**Tell me resources for studying {x field} concepts at {level} {X language} such as:**\n",
    "\n",
    "- **websites**\n",
    "- **youtube channels**\n",
    "- **podcasts**\n",
    "- **movies**\n",
    "- **books**"
   ]
  },
  {
   "cell_type": "markdown",
   "metadata": {},
   "source": [
    "## Prompt-5\n",
    "### Creating exercises for different studying areas\n",
    "Now that we have learned the levels, the areas to be studied and the topics, we must finally exercise and improve myself."
   ]
  },
  {
   "cell_type": "markdown",
   "metadata": {},
   "source": [
    "- **Create an {reading} exercise for {A1 level}**\n",
    "- **Create an {reading} passage for {A1 level} and create {10} questions in {multiple options} format about the passage**\n",
    "- **Create a {10} {grammer} questions for {A1 level} in {fill the blank} format.**\n",
    "- **Create a {Proficiency Exams}  {writing} task**"
   ]
  },
  {
   "cell_type": "markdown",
   "metadata": {},
   "source": [
    "If you want a specific exercise, you can create your own exercise prompt where you set the subject, length, grammar and vocabulary:"
   ]
  },
  {
   "cell_type": "markdown",
   "metadata": {},
   "source": [
    "- **Create a reading passage in German for {C1 level} about “X topic” with “XXX-YYY” words length according to the “grammar” and “vocabulary” rules I specified below:**\n",
    "    \n",
    "    **“grammar”**\n",
    "    \n",
    "    **1-The passage must demonstrate a good command of grammar.**\n",
    "    \n",
    "    **2-Struct the sentences properly and use verb tenses and agreement between subjects and verbs  correctly.**\n",
    "    \n",
    "    **3-There must be complex sentence structures present, including subordinate clauses and phrases.**\n",
    "    \n",
    "    **4-The passage must  includes appropriate use of punctuation,such as commas,periods, and hyphens, to seperate ideas and clarify meaning.**\n",
    "    \n",
    "    **“vocabulary”**\n",
    "    \n",
    "    **1-The text must displays a diverse range of vocabulary related to the topic.**\n",
    "    \n",
    "    **2-It must includes specialized terminology according to topic.**\n",
    "    \n",
    "    **3-It must have appropriate use of academic and descriptive vocabulary.**"
   ]
  },
  {
   "cell_type": "markdown",
   "metadata": {},
   "source": [
    "# Example Usage\n",
    "In this section, I will show you how to use prompts with an example.\n",
    "\n",
    "The language I want to learn is “German”. I have chosen “English” as the language of study. That is all I know."
   ]
  },
  {
   "cell_type": "markdown",
   "metadata": {},
   "source": [
    "## 1st and 2nd Prompt\n",
    "**Your purpose is teaching \"German\" to me as a \"language tutor\". Your responses must be in \"English\". Do not write the items again while answering the text that I wrote in the prompt . To begin with, I want you to perform the items listed below, in order:**\n",
    "\n",
    "- **Introduce yourself as a language tutor**\n",
    "- **What are the main areas to learn in a language are usually**\n",
    "- **Give brief information about the history of the German language and its language family**\n",
    "- **Give detailed statistical information about how many people on the earth speak \"German\" and most spoken countries.**\n",
    "- **Talk about the dialects and accents of \"German\"**\n",
    "- **Why should I learn \"German\"?**\n",
    "- **What is the guideline used to describe the achievements of learners of \"German\"**\n",
    "- **Create a roadmap step by step for learning \"German\"**"
   ]
  },
  {
   "cell_type": "markdown",
   "metadata": {},
   "source": [
    "## 3rd Prompt\n",
    "You can change \"grammar\" to, \"vocabulary\",\"writing\",\"listening\",\"reading\".\n",
    "\n",
    "**Create a detailed curriculum outline for “grammar” concepts at \"A1 level\"  \"German\" according to the \"Common European Framework of Reference for Languages (CEFR)\" including:**\n",
    "\n",
    "- **Course Description**\n",
    "- **Course Duration**\n",
    "- **Course Objectives**\n",
    "- **Course Outline in detailed weekly action plan in table format**\n",
    "- **Create exercises according to course outline**"
   ]
  },
  {
   "cell_type": "markdown",
   "metadata": {},
   "source": [
    "## 4th Prompt\n",
    "**Create a detailed curriculum outline for “grammar” concepts at \"A1 level\"  \"German\" according to the \"Common European Framework of Reference for Languages (CEFR)\" including:**\n",
    "\n",
    "- **Course Description**\n",
    "- **Course Duration**\n",
    "- **Course Objectives**\n",
    "- **Course Outline in detailed weekly action plan in table format**\n",
    "- **Create exercises according to course outline**"
   ]
  },
  {
   "cell_type": "markdown",
   "metadata": {},
   "source": [
    "## 5th Prompt\n",
    "- **Create a reading passage in “German” for “B2 level”  about “space” with “200-300” words length for  according to the “grammar” and “vocabulary” rules I specified below:**\n",
    "    \n",
    "    **“grammar”**\n",
    "    \n",
    "    **1-The passage must demonstrate a good command of grammar.**\n",
    "    \n",
    "    **2-Struct the sentences properly and use verb tenses and agreement between subjects and verbs  correctly.**\n",
    "    \n",
    "    **3-There must be complex sentence structures present, including subordinate clauses and phrases.**\n",
    "    \n",
    "    **4-The passage must  includes appropriate use of punctuation,such as commas,periods, and hyphens, to seperate ideas and clarify meaning.**\n",
    "    \n",
    "    **“vocabulary”**\n",
    "    \n",
    "    **1-The text must displays a diverse range of vocabulary related to the topic.**\n",
    "    \n",
    "    **2-It must includes specialized terminology according to topic.**\n",
    "    \n",
    "    **3-It must have appropriate use of academic and descriptive vocabulary.**"
   ]
  }
 ],
 "metadata": {
  "language_info": {
   "name": "python"
  },
  "orig_nbformat": 4
 },
 "nbformat": 4,
 "nbformat_minor": 2
}
